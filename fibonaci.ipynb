{
 "cells": [
  {
   "attachments": {},
   "cell_type": "markdown",
   "metadata": {},
   "source": [
    "# Fibonacci \n",
    "The Fibonacci sequence is a mathematical sequence observed in many physical, chemical and biological phenomena. It was named after the Italian mathematician Fibonacci. It represents a sequence of numbers in which the sum of the previous two numbers in the sequence gives the value of the next member of the sequence. The indexing of members of this sequence starts from zero, and its first two members are 0 and 1.\n",
    "\n",
    "[0, 1, 1, 2, 3, 5, 8, 13, 21, 34, 55, 89, 144, ...]\n",
    "\n",
    "## Problem\n",
    "Create a program that, after taking a digit from the user, will check whether the entered number is in the Fibonacci sequence or not.\n",
    "Example input:\n",
    "Enter the number: 144\n",
    "\n",
    "144 is in Fibonacci sequence.\n",
    "\n",
    "\n"
   ]
  },
  {
   "cell_type": "code",
   "execution_count": 2,
   "metadata": {},
   "outputs": [
    {
     "name": "stdout",
     "output_type": "stream",
     "text": [
      "Number 5 is in Fibonacci sequence\n"
     ]
    }
   ],
   "source": [
    "\n",
    "n=[0,1]\n",
    "a=int(input(\"Enter the number : \"))\n",
    "while True:\n",
    "    newNum=(n[-1]+n[-2])\n",
    "    n.append(newNum)\n",
    "    if n[-1]>=a:\n",
    "         if n[-1]==a:\n",
    "            print(\"Number\" , a , \"is in Fibonacci sequence\")\n",
    "            break\n",
    "         else:\n",
    "            print(\"Number\" , a , \"isn't in Fibonacci sequence\")\n",
    "            break\n",
    "    \n"
   ]
  }
 ],
 "metadata": {
  "interpreter": {
   "hash": "0a54084e6b208ee8d1ce3989ffc20924477a5f55f5a43e22e699a6741623861e"
  },
  "kernelspec": {
   "display_name": "Python 3.7.8 64-bit",
   "language": "python",
   "name": "python3"
  },
  "language_info": {
   "codemirror_mode": {
    "name": "ipython",
    "version": 3
   },
   "file_extension": ".py",
   "mimetype": "text/x-python",
   "name": "python",
   "nbconvert_exporter": "python",
   "pygments_lexer": "ipython3",
   "version": "3.7.8"
  },
  "orig_nbformat": 4
 },
 "nbformat": 4,
 "nbformat_minor": 2
}
